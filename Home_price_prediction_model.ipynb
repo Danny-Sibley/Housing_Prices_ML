{
 "cells": [
  {
   "cell_type": "markdown",
   "metadata": {},
   "source": [
    "Explanatation of machine learning model and data analysis. Walks through data accumulation, data cleaning, data analysis, machine learning and evaluation. "
   ]
  },
  {
   "cell_type": "markdown",
   "metadata": {},
   "source": [
    "Start with importing python libraries for the project. Numpy and Pandas are used for data analysis. Matlplotlib and seaborn used for vizualization and scikit-learn used for machine learning. Home sales data was downloaded from red fin. Data is home sales in my area over the last two years. "
   ]
  },
  {
   "cell_type": "code",
   "execution_count": 67,
   "metadata": {},
   "outputs": [],
   "source": [
    "import numpy as np\n",
    "import pandas as pd\n",
    "import matplotlib.pyplot as plt\n",
    "from matplotlib.pyplot import figure\n",
    "import seaborn as sns\n",
    "from pandas.plotting import scatter_matrix\n",
    "from seaborn import regression\n",
    "from sklearn.metrics import r2_score\n",
    "from sklearn.model_selection import train_test_split\n",
    "from sklearn.tree import DecisionTreeRegressor\n",
    "from sklearn.metrics import make_scorer\n",
    "from sklearn.linear_model import LinearRegression, Ridge, Lasso, BayesianRidge, ElasticNet\n",
    "from sklearn.model_selection import GridSearchCV, ShuffleSplit\n",
    "from sklearn import ensemble\n",
    "import pickle"
   ]
  },
  {
   "cell_type": "markdown",
   "metadata": {},
   "source": [
    "Now we'll import code to combine the CSV files into one large CSV file with all the data combined. "
   ]
  },
  {
   "cell_type": "code",
   "execution_count": 108,
   "metadata": {},
   "outputs": [],
   "source": [
    "import os \n",
    "import glob\n",
    "import pandas as pd\n",
    "# directory to pull files from  \n",
    "os.chdir(\"/Users/dannysibley/desktop/Housing_Price_ML\")\n",
    "\n",
    "#credited:\n",
    "#https://stackoverflow.com/questions/9234560/find-all-csv-files-in-a-directory-using-python/12280052\n",
    "\n",
    "extension= 'csv'\n",
    "all_filenames = [i for i in glob.glob('*{}'.format(extension))]\n",
    "\n",
    "#combine all files in list\n",
    "combined_csv = pd.concat([pd.read_csv(f) for f in all_filenames])\n",
    "\n",
    "#export to csv, saved as combined_csv.csv\n",
    "combined_csv.to_csv('combined_csv.csv', index = False, encoding = 'utf-8-sig')"
   ]
  },
  {
   "cell_type": "markdown",
   "metadata": {},
   "source": [
    "Convert the csv that was just created into a pandas dataframe. This allows us to utilize pandas features while being stored in a memory efficient format.  "
   ]
  },
  {
   "cell_type": "code",
   "execution_count": 109,
   "metadata": {},
   "outputs": [],
   "source": [
    "# imports and reads data from csv file\n",
    "data = pd.read_csv('combined_csv.csv')"
   ]
  },
  {
   "cell_type": "markdown",
   "metadata": {},
   "source": [
    "Now we'll begin the EDA (exploritory data analysis) phase. This entails gaining insights about the data through data analyis, vizualizations and mathmatical properties. \n",
    "I'll walkthrough each step. "
   ]
  },
  {
   "cell_type": "markdown",
   "metadata": {},
   "source": [
    "I'll be using a linear regression model for machine learning so we need to drop any data with text. The data from redfin included columns such as address, property type and status that are unneeded. The model will account for location by using zipcodes. \n",
    "\n",
    "Pandas loc function allows you to effieciently grab the columns you want based off header name or index location. "
   ]
  },
  {
   "cell_type": "code",
   "execution_count": 201,
   "metadata": {},
   "outputs": [],
   "source": [
    "# removes unwanted features\n",
    "df2 = data.loc[:,('ZIP OR POSTAL CODE', 'BEDS','BATHS', 'SQUARE FEET','LOT SIZE','YEAR BUILT','PRICE',)]\n"
   ]
  },
  {
   "cell_type": "markdown",
   "metadata": {},
   "source": [
    "Most programming languages have issues processing spaces. So we'll rename columns to remove spaces. "
   ]
  },
  {
   "cell_type": "code",
   "execution_count": 202,
   "metadata": {},
   "outputs": [],
   "source": [
    "\n",
    "# renames columns, in same matrix\n",
    "df2.rename(columns={'ZIP OR POSTAL CODE': 'ZIPCODE', 'SQUARE FEET': 'SQFT',\n",
    "           'LOT SIZE': 'LOT_SIZE', 'YEAR BUILT': 'YEAR_BUILT'}, inplace=True)"
   ]
  },
  {
   "cell_type": "markdown",
   "metadata": {},
   "source": [
    "It's a good idea to look at your data after every manipulation to see the changes made. The describe function is a good way to accomplish this. It displays key metrics such as the number of entries (count), mean, std, etc. "
   ]
  },
  {
   "cell_type": "code",
   "execution_count": 203,
   "metadata": {},
   "outputs": [
    {
     "data": {
      "text/html": [
       "<div>\n",
       "<style scoped>\n",
       "    .dataframe tbody tr th:only-of-type {\n",
       "        vertical-align: middle;\n",
       "    }\n",
       "\n",
       "    .dataframe tbody tr th {\n",
       "        vertical-align: top;\n",
       "    }\n",
       "\n",
       "    .dataframe thead th {\n",
       "        text-align: right;\n",
       "    }\n",
       "</style>\n",
       "<table border=\"1\" class=\"dataframe\">\n",
       "  <thead>\n",
       "    <tr style=\"text-align: right;\">\n",
       "      <th></th>\n",
       "      <th>ZIPCODE</th>\n",
       "      <th>BEDS</th>\n",
       "      <th>BATHS</th>\n",
       "      <th>SQFT</th>\n",
       "      <th>LOT_SIZE</th>\n",
       "      <th>YEAR_BUILT</th>\n",
       "      <th>PRICE</th>\n",
       "    </tr>\n",
       "  </thead>\n",
       "  <tbody>\n",
       "    <tr>\n",
       "      <th>count</th>\n",
       "      <td>3381.000000</td>\n",
       "      <td>3364.000000</td>\n",
       "      <td>3365.000000</td>\n",
       "      <td>3367.000000</td>\n",
       "      <td>3.126000e+03</td>\n",
       "      <td>3360.000000</td>\n",
       "      <td>3.374000e+03</td>\n",
       "    </tr>\n",
       "    <tr>\n",
       "      <th>mean</th>\n",
       "      <td>97143.853002</td>\n",
       "      <td>3.510702</td>\n",
       "      <td>2.398514</td>\n",
       "      <td>2139.109593</td>\n",
       "      <td>2.270923e+04</td>\n",
       "      <td>1982.878274</td>\n",
       "      <td>5.893214e+05</td>\n",
       "    </tr>\n",
       "    <tr>\n",
       "      <th>std</th>\n",
       "      <td>83.989003</td>\n",
       "      <td>0.850148</td>\n",
       "      <td>0.684809</td>\n",
       "      <td>857.020506</td>\n",
       "      <td>1.598857e+05</td>\n",
       "      <td>28.089113</td>\n",
       "      <td>2.500551e+05</td>\n",
       "    </tr>\n",
       "    <tr>\n",
       "      <th>min</th>\n",
       "      <td>97003.000000</td>\n",
       "      <td>1.000000</td>\n",
       "      <td>1.000000</td>\n",
       "      <td>404.000000</td>\n",
       "      <td>4.360000e+02</td>\n",
       "      <td>1866.000000</td>\n",
       "      <td>6.120000e+04</td>\n",
       "    </tr>\n",
       "    <tr>\n",
       "      <th>25%</th>\n",
       "      <td>97116.000000</td>\n",
       "      <td>3.000000</td>\n",
       "      <td>2.000000</td>\n",
       "      <td>1531.500000</td>\n",
       "      <td>5.227000e+03</td>\n",
       "      <td>1965.000000</td>\n",
       "      <td>4.600000e+05</td>\n",
       "    </tr>\n",
       "    <tr>\n",
       "      <th>50%</th>\n",
       "      <td>97124.000000</td>\n",
       "      <td>3.000000</td>\n",
       "      <td>2.500000</td>\n",
       "      <td>1964.000000</td>\n",
       "      <td>7.405000e+03</td>\n",
       "      <td>1987.000000</td>\n",
       "      <td>5.400000e+05</td>\n",
       "    </tr>\n",
       "    <tr>\n",
       "      <th>75%</th>\n",
       "      <td>97223.000000</td>\n",
       "      <td>4.000000</td>\n",
       "      <td>2.500000</td>\n",
       "      <td>2573.500000</td>\n",
       "      <td>1.001800e+04</td>\n",
       "      <td>2004.000000</td>\n",
       "      <td>6.500000e+05</td>\n",
       "    </tr>\n",
       "    <tr>\n",
       "      <th>max</th>\n",
       "      <td>98664.000000</td>\n",
       "      <td>14.000000</td>\n",
       "      <td>6.000000</td>\n",
       "      <td>10750.000000</td>\n",
       "      <td>4.075909e+06</td>\n",
       "      <td>2021.000000</td>\n",
       "      <td>5.875000e+06</td>\n",
       "    </tr>\n",
       "  </tbody>\n",
       "</table>\n",
       "</div>"
      ],
      "text/plain": [
       "            ZIPCODE         BEDS        BATHS          SQFT      LOT_SIZE  \\\n",
       "count   3381.000000  3364.000000  3365.000000   3367.000000  3.126000e+03   \n",
       "mean   97143.853002     3.510702     2.398514   2139.109593  2.270923e+04   \n",
       "std       83.989003     0.850148     0.684809    857.020506  1.598857e+05   \n",
       "min    97003.000000     1.000000     1.000000    404.000000  4.360000e+02   \n",
       "25%    97116.000000     3.000000     2.000000   1531.500000  5.227000e+03   \n",
       "50%    97124.000000     3.000000     2.500000   1964.000000  7.405000e+03   \n",
       "75%    97223.000000     4.000000     2.500000   2573.500000  1.001800e+04   \n",
       "max    98664.000000    14.000000     6.000000  10750.000000  4.075909e+06   \n",
       "\n",
       "        YEAR_BUILT         PRICE  \n",
       "count  3360.000000  3.374000e+03  \n",
       "mean   1982.878274  5.893214e+05  \n",
       "std      28.089113  2.500551e+05  \n",
       "min    1866.000000  6.120000e+04  \n",
       "25%    1965.000000  4.600000e+05  \n",
       "50%    1987.000000  5.400000e+05  \n",
       "75%    2004.000000  6.500000e+05  \n",
       "max    2021.000000  5.875000e+06  "
      ]
     },
     "execution_count": 203,
     "metadata": {},
     "output_type": "execute_result"
    }
   ],
   "source": [
    "df2.describe()"
   ]
  },
  {
   "cell_type": "markdown",
   "metadata": {},
   "source": [
    "From this we can see a good summary of the data. There are 3381 rows of data. The average home price is $ 589,321, average bedrooms 3.5, average sqft is 2139. The min and max are also good indicators of anamolies in the data that I'll dive into later. "
   ]
  },
  {
   "cell_type": "markdown",
   "metadata": {},
   "source": [
    "The machine learning model will have issues with accounting for incomplete data (null values). There are several ways to account for this. \n",
    "\n",
    "For ex: if you had a row that was missing the BEDS data you could replace the value with the average number of BEDS from other homes. \n",
    "\n",
    "However this makes assumptions about the data and can lead to misleading models as the data is less accurate. I chose to drop the rows with any missing data. This doens't drastically reduce the amount of rows so it's a good choice for my model."
   ]
  },
  {
   "cell_type": "code",
   "execution_count": 204,
   "metadata": {},
   "outputs": [],
   "source": [
    "# data cleaning\n",
    "# remove entry rows that have incomplete data\n",
    "df3 = df2.dropna()"
   ]
  },
  {
   "cell_type": "markdown",
   "metadata": {},
   "source": [
    "Visualization is a great way to quickly see outliers in the data that will lower the accuracy of our model. Matplot lib and seaborn will be used to create graphs. The first graph shows a distribution plot of home prices. Visually we can see that it is a gaussian distribution and we should me able to model it effectively. \n",
    "\n"
   ]
  },
  {
   "cell_type": "code",
   "execution_count": 179,
   "metadata": {},
   "outputs": [
    {
     "data": {
      "image/png": "[encoded data removed]",
      "text/plain": [
       "<Figure size 360x360 with 1 Axes>"
      ]
     },
     "metadata": {
      "needs_background": "light"
     },
     "output_type": "display_data"
    }
   ],
   "source": [
    "# distribution plot of prices\n",
    "sns.displot(df3.PRICE)\n",
    "plt.title('Sale Price Distribution')\n",
    "plt.xlabel('Price')\n",
    "plt.show()"
   ]
  },
  {
   "cell_type": "markdown",
   "metadata": {},
   "source": [
    "The following graph shows the amount of homes that have a particular amount of bedrooms. Our graph shows that most of the homes have 3 bedrooms."
   ]
  },
  {
   "cell_type": "code",
   "execution_count": 180,
   "metadata": {},
   "outputs": [
    {
     "data": {
      "image/png": "[encoded data removed]",
      "text/plain": [
       "<Figure size 432x288 with 1 Axes>"
      ]
     },
     "metadata": {
      "needs_background": "light"
     },
     "output_type": "display_data"
    }
   ],
   "source": [
    "# Bar chart to show number of bedrooms\n",
    "df3['BEDS'].value_counts(ascending = False).plot(kind='bar')\n",
    "plt.title('number of Bedrooms')\n",
    "plt.xlabel('Bedrooms')\n",
    "plt.ylabel('Count')\n",
    "plt.show()"
   ]
  },
  {
   "cell_type": "markdown",
   "metadata": {},
   "source": [
    "Now I'll sort through the data by columns to see the min and max values of each column.\n",
    "\n",
    "Here you can see a home with 14 bedrooms but only 1705 sqft. This is not likely and the data was most likely entered incorrectly. We'll drop this entry too. "
   ]
  },
  {
   "cell_type": "code",
   "execution_count": 205,
   "metadata": {},
   "outputs": [
    {
     "data": {
      "text/html": [
       "<div>\n",
       "<style scoped>\n",
       "    .dataframe tbody tr th:only-of-type {\n",
       "        vertical-align: middle;\n",
       "    }\n",
       "\n",
       "    .dataframe tbody tr th {\n",
       "        vertical-align: top;\n",
       "    }\n",
       "\n",
       "    .dataframe thead th {\n",
       "        text-align: right;\n",
       "    }\n",
       "</style>\n",
       "<table border=\"1\" class=\"dataframe\">\n",
       "  <thead>\n",
       "    <tr style=\"text-align: right;\">\n",
       "      <th></th>\n",
       "      <th>ZIPCODE</th>\n",
       "      <th>BEDS</th>\n",
       "      <th>BATHS</th>\n",
       "      <th>SQFT</th>\n",
       "      <th>LOT_SIZE</th>\n",
       "      <th>YEAR_BUILT</th>\n",
       "      <th>PRICE</th>\n",
       "    </tr>\n",
       "  </thead>\n",
       "  <tbody>\n",
       "    <tr>\n",
       "      <th>1239</th>\n",
       "      <td>97116</td>\n",
       "      <td>1.0</td>\n",
       "      <td>1.0</td>\n",
       "      <td>504.0</td>\n",
       "      <td>49222.0</td>\n",
       "      <td>1920.0</td>\n",
       "      <td>256506.0</td>\n",
       "    </tr>\n",
       "    <tr>\n",
       "      <th>2539</th>\n",
       "      <td>97124</td>\n",
       "      <td>1.0</td>\n",
       "      <td>1.0</td>\n",
       "      <td>576.0</td>\n",
       "      <td>6969.0</td>\n",
       "      <td>1947.0</td>\n",
       "      <td>245000.0</td>\n",
       "    </tr>\n",
       "    <tr>\n",
       "      <th>474</th>\n",
       "      <td>97206</td>\n",
       "      <td>1.0</td>\n",
       "      <td>1.0</td>\n",
       "      <td>1526.0</td>\n",
       "      <td>13939.0</td>\n",
       "      <td>1935.0</td>\n",
       "      <td>290000.0</td>\n",
       "    </tr>\n",
       "    <tr>\n",
       "      <th>896</th>\n",
       "      <td>97116</td>\n",
       "      <td>1.0</td>\n",
       "      <td>1.0</td>\n",
       "      <td>504.0</td>\n",
       "      <td>49222.0</td>\n",
       "      <td>1920.0</td>\n",
       "      <td>256506.0</td>\n",
       "    </tr>\n",
       "    <tr>\n",
       "      <th>509</th>\n",
       "      <td>97231</td>\n",
       "      <td>1.0</td>\n",
       "      <td>1.0</td>\n",
       "      <td>1680.0</td>\n",
       "      <td>9583.0</td>\n",
       "      <td>1914.0</td>\n",
       "      <td>424000.0</td>\n",
       "    </tr>\n",
       "    <tr>\n",
       "      <th>...</th>\n",
       "      <td>...</td>\n",
       "      <td>...</td>\n",
       "      <td>...</td>\n",
       "      <td>...</td>\n",
       "      <td>...</td>\n",
       "      <td>...</td>\n",
       "      <td>...</td>\n",
       "    </tr>\n",
       "    <tr>\n",
       "      <th>1726</th>\n",
       "      <td>97221</td>\n",
       "      <td>8.0</td>\n",
       "      <td>5.0</td>\n",
       "      <td>7962.0</td>\n",
       "      <td>142441.0</td>\n",
       "      <td>1969.0</td>\n",
       "      <td>3650000.0</td>\n",
       "    </tr>\n",
       "    <tr>\n",
       "      <th>1276</th>\n",
       "      <td>97116</td>\n",
       "      <td>8.0</td>\n",
       "      <td>4.0</td>\n",
       "      <td>5040.0</td>\n",
       "      <td>12196.0</td>\n",
       "      <td>1912.0</td>\n",
       "      <td>800000.0</td>\n",
       "    </tr>\n",
       "    <tr>\n",
       "      <th>806</th>\n",
       "      <td>97116</td>\n",
       "      <td>8.0</td>\n",
       "      <td>4.0</td>\n",
       "      <td>5040.0</td>\n",
       "      <td>12196.0</td>\n",
       "      <td>1912.0</td>\n",
       "      <td>800000.0</td>\n",
       "    </tr>\n",
       "    <tr>\n",
       "      <th>1043</th>\n",
       "      <td>97116</td>\n",
       "      <td>10.0</td>\n",
       "      <td>3.0</td>\n",
       "      <td>5736.0</td>\n",
       "      <td>24829.0</td>\n",
       "      <td>1970.0</td>\n",
       "      <td>935000.0</td>\n",
       "    </tr>\n",
       "    <tr>\n",
       "      <th>2481</th>\n",
       "      <td>97124</td>\n",
       "      <td>14.0</td>\n",
       "      <td>2.0</td>\n",
       "      <td>1705.0</td>\n",
       "      <td>11326.0</td>\n",
       "      <td>1948.0</td>\n",
       "      <td>491900.0</td>\n",
       "    </tr>\n",
       "  </tbody>\n",
       "</table>\n",
       "<p>3093 rows × 7 columns</p>\n",
       "</div>"
      ],
      "text/plain": [
       "      ZIPCODE  BEDS  BATHS    SQFT  LOT_SIZE  YEAR_BUILT      PRICE\n",
       "1239    97116   1.0    1.0   504.0   49222.0      1920.0   256506.0\n",
       "2539    97124   1.0    1.0   576.0    6969.0      1947.0   245000.0\n",
       "474     97206   1.0    1.0  1526.0   13939.0      1935.0   290000.0\n",
       "896     97116   1.0    1.0   504.0   49222.0      1920.0   256506.0\n",
       "509     97231   1.0    1.0  1680.0    9583.0      1914.0   424000.0\n",
       "...       ...   ...    ...     ...       ...         ...        ...\n",
       "1726    97221   8.0    5.0  7962.0  142441.0      1969.0  3650000.0\n",
       "1276    97116   8.0    4.0  5040.0   12196.0      1912.0   800000.0\n",
       "806     97116   8.0    4.0  5040.0   12196.0      1912.0   800000.0\n",
       "1043    97116  10.0    3.0  5736.0   24829.0      1970.0   935000.0\n",
       "2481    97124  14.0    2.0  1705.0   11326.0      1948.0   491900.0\n",
       "\n",
       "[3093 rows x 7 columns]"
      ]
     },
     "execution_count": 205,
     "metadata": {},
     "output_type": "execute_result"
    }
   ],
   "source": [
    "df3.sort_values(by='BEDS')"
   ]
  },
  {
   "cell_type": "code",
   "execution_count": 206,
   "metadata": {},
   "outputs": [],
   "source": [
    "df3 = df3.drop(labels=2481, axis=0)"
   ]
  },
  {
   "cell_type": "markdown",
   "metadata": {},
   "source": [
    "Now we'll look at the relation between SQFT and Price. A scatter plot is a good choice of graph here to show each entry. We hope to see a linear relationship in the graph. "
   ]
  },
  {
   "cell_type": "code",
   "execution_count": 215,
   "metadata": {},
   "outputs": [
    {
     "data": {
      "image/png": "[encoded data removed]",
      "text/plain": [
       "<Figure size 432x288 with 1 Axes>"
      ]
     },
     "metadata": {
      "needs_background": "light"
     },
     "output_type": "display_data"
    }
   ],
   "source": [
    "# plots price vs sqft\n",
    "plt.scatter(df3.SQFT,df3.PRICE)\n",
    "plt.xlabel(\"SQFT\")\n",
    "plt.ylabel(\"Price\")\n",
    "plt.title(\"Price vs Square Feet\")\n",
    "plt.show()"
   ]
  },
  {
   "cell_type": "code",
   "execution_count": 212,
   "metadata": {},
   "outputs": [
    {
     "data": {
      "text/html": [
       "<div>\n",
       "<style scoped>\n",
       "    .dataframe tbody tr th:only-of-type {\n",
       "        vertical-align: middle;\n",
       "    }\n",
       "\n",
       "    .dataframe tbody tr th {\n",
       "        vertical-align: top;\n",
       "    }\n",
       "\n",
       "    .dataframe thead th {\n",
       "        text-align: right;\n",
       "    }\n",
       "</style>\n",
       "<table border=\"1\" class=\"dataframe\">\n",
       "  <thead>\n",
       "    <tr style=\"text-align: right;\">\n",
       "      <th></th>\n",
       "      <th>ZIPCODE</th>\n",
       "      <th>BEDS</th>\n",
       "      <th>BATHS</th>\n",
       "      <th>SQFT</th>\n",
       "      <th>LOT_SIZE</th>\n",
       "      <th>YEAR_BUILT</th>\n",
       "      <th>PRICE</th>\n",
       "    </tr>\n",
       "  </thead>\n",
       "  <tbody>\n",
       "    <tr>\n",
       "      <th>3282</th>\n",
       "      <td>97123</td>\n",
       "      <td>1.0</td>\n",
       "      <td>1.0</td>\n",
       "      <td>404.0</td>\n",
       "      <td>17424.0</td>\n",
       "      <td>1938.0</td>\n",
       "      <td>260000.0</td>\n",
       "    </tr>\n",
       "    <tr>\n",
       "      <th>1239</th>\n",
       "      <td>97116</td>\n",
       "      <td>1.0</td>\n",
       "      <td>1.0</td>\n",
       "      <td>504.0</td>\n",
       "      <td>49222.0</td>\n",
       "      <td>1920.0</td>\n",
       "      <td>256506.0</td>\n",
       "    </tr>\n",
       "    <tr>\n",
       "      <th>896</th>\n",
       "      <td>97116</td>\n",
       "      <td>1.0</td>\n",
       "      <td>1.0</td>\n",
       "      <td>504.0</td>\n",
       "      <td>49222.0</td>\n",
       "      <td>1920.0</td>\n",
       "      <td>256506.0</td>\n",
       "    </tr>\n",
       "    <tr>\n",
       "      <th>3205</th>\n",
       "      <td>97124</td>\n",
       "      <td>1.0</td>\n",
       "      <td>1.0</td>\n",
       "      <td>576.0</td>\n",
       "      <td>6969.0</td>\n",
       "      <td>1947.0</td>\n",
       "      <td>245000.0</td>\n",
       "    </tr>\n",
       "    <tr>\n",
       "      <th>2539</th>\n",
       "      <td>97124</td>\n",
       "      <td>1.0</td>\n",
       "      <td>1.0</td>\n",
       "      <td>576.0</td>\n",
       "      <td>6969.0</td>\n",
       "      <td>1947.0</td>\n",
       "      <td>245000.0</td>\n",
       "    </tr>\n",
       "    <tr>\n",
       "      <th>...</th>\n",
       "      <td>...</td>\n",
       "      <td>...</td>\n",
       "      <td>...</td>\n",
       "      <td>...</td>\n",
       "      <td>...</td>\n",
       "      <td>...</td>\n",
       "      <td>...</td>\n",
       "    </tr>\n",
       "    <tr>\n",
       "      <th>2050</th>\n",
       "      <td>97221</td>\n",
       "      <td>4.0</td>\n",
       "      <td>4.5</td>\n",
       "      <td>6515.0</td>\n",
       "      <td>65775.0</td>\n",
       "      <td>1939.0</td>\n",
       "      <td>1760000.0</td>\n",
       "    </tr>\n",
       "    <tr>\n",
       "      <th>3313</th>\n",
       "      <td>97124</td>\n",
       "      <td>7.0</td>\n",
       "      <td>6.0</td>\n",
       "      <td>7500.0</td>\n",
       "      <td>1742400.0</td>\n",
       "      <td>2021.0</td>\n",
       "      <td>850000.0</td>\n",
       "    </tr>\n",
       "    <tr>\n",
       "      <th>2601</th>\n",
       "      <td>97123</td>\n",
       "      <td>5.0</td>\n",
       "      <td>5.0</td>\n",
       "      <td>7929.0</td>\n",
       "      <td>101494.0</td>\n",
       "      <td>1998.0</td>\n",
       "      <td>1474500.0</td>\n",
       "    </tr>\n",
       "    <tr>\n",
       "      <th>1726</th>\n",
       "      <td>97221</td>\n",
       "      <td>8.0</td>\n",
       "      <td>5.0</td>\n",
       "      <td>7962.0</td>\n",
       "      <td>142441.0</td>\n",
       "      <td>1969.0</td>\n",
       "      <td>3650000.0</td>\n",
       "    </tr>\n",
       "    <tr>\n",
       "      <th>2596</th>\n",
       "      <td>97124</td>\n",
       "      <td>5.0</td>\n",
       "      <td>6.0</td>\n",
       "      <td>9658.0</td>\n",
       "      <td>4075909.0</td>\n",
       "      <td>1988.0</td>\n",
       "      <td>5875000.0</td>\n",
       "    </tr>\n",
       "  </tbody>\n",
       "</table>\n",
       "<p>3090 rows × 7 columns</p>\n",
       "</div>"
      ],
      "text/plain": [
       "      ZIPCODE  BEDS  BATHS    SQFT   LOT_SIZE  YEAR_BUILT      PRICE\n",
       "3282    97123   1.0    1.0   404.0    17424.0      1938.0   260000.0\n",
       "1239    97116   1.0    1.0   504.0    49222.0      1920.0   256506.0\n",
       "896     97116   1.0    1.0   504.0    49222.0      1920.0   256506.0\n",
       "3205    97124   1.0    1.0   576.0     6969.0      1947.0   245000.0\n",
       "2539    97124   1.0    1.0   576.0     6969.0      1947.0   245000.0\n",
       "...       ...   ...    ...     ...        ...         ...        ...\n",
       "2050    97221   4.0    4.5  6515.0    65775.0      1939.0  1760000.0\n",
       "3313    97124   7.0    6.0  7500.0  1742400.0      2021.0   850000.0\n",
       "2601    97123   5.0    5.0  7929.0   101494.0      1998.0  1474500.0\n",
       "1726    97221   8.0    5.0  7962.0   142441.0      1969.0  3650000.0\n",
       "2596    97124   5.0    6.0  9658.0  4075909.0      1988.0  5875000.0\n",
       "\n",
       "[3090 rows x 7 columns]"
      ]
     },
     "execution_count": 212,
     "metadata": {},
     "output_type": "execute_result"
    }
   ],
   "source": [
    "df3.sort_values(by = 'SQFT')"
   ]
  },
  {
   "cell_type": "markdown",
   "metadata": {},
   "source": [
    "From this we can see 2 homes with more than 9000 sqft. This is very irregular for a home and in a linear regression model this could throw things off so we'll remove the data. "
   ]
  },
  {
   "cell_type": "code",
   "execution_count": 214,
   "metadata": {},
   "outputs": [],
   "source": [
    "df3 = df3.drop(labels=[2596, 2152], axis=0)"
   ]
  },
  {
   "cell_type": "markdown",
   "metadata": {},
   "source": [
    "We'll continue this process with the other columns. "
   ]
  },
  {
   "cell_type": "code",
   "execution_count": 184,
   "metadata": {},
   "outputs": [
    {
     "data": {
      "image/png": "[encoded data removed]",
      "text/plain": [
       "<Figure size 432x288 with 1 Axes>"
      ]
     },
     "metadata": {
      "needs_background": "light"
     },
     "output_type": "display_data"
    }
   ],
   "source": [
    "# plots BEDS vs PRICE\n",
    "plt.scatter(df3.BEDS,df3.PRICE,)\n",
    "plt.xlabel(\"BEDS\")\n",
    "plt.ylabel(\"PRICE\")\n",
    "plt.title(\"Beds vs Price\")\n",
    "plt.show()"
   ]
  },
  {
   "cell_type": "markdown",
   "metadata": {},
   "source": [
    "Here we'll sort by price. Looking at the highest value homes you can also see zipcodes that are more typical for higher priced homes. We'll drop some of the homes that are very expensive."
   ]
  },
  {
   "cell_type": "code",
   "execution_count": 216,
   "metadata": {},
   "outputs": [
    {
     "data": {
      "text/html": [
       "<div>\n",
       "<style scoped>\n",
       "    .dataframe tbody tr th:only-of-type {\n",
       "        vertical-align: middle;\n",
       "    }\n",
       "\n",
       "    .dataframe tbody tr th {\n",
       "        vertical-align: top;\n",
       "    }\n",
       "\n",
       "    .dataframe thead th {\n",
       "        text-align: right;\n",
       "    }\n",
       "</style>\n",
       "<table border=\"1\" class=\"dataframe\">\n",
       "  <thead>\n",
       "    <tr style=\"text-align: right;\">\n",
       "      <th></th>\n",
       "      <th>ZIPCODE</th>\n",
       "      <th>BEDS</th>\n",
       "      <th>BATHS</th>\n",
       "      <th>SQFT</th>\n",
       "      <th>LOT_SIZE</th>\n",
       "      <th>YEAR_BUILT</th>\n",
       "      <th>PRICE</th>\n",
       "    </tr>\n",
       "  </thead>\n",
       "  <tbody>\n",
       "    <tr>\n",
       "      <th>3189</th>\n",
       "      <td>97124</td>\n",
       "      <td>4.0</td>\n",
       "      <td>1.0</td>\n",
       "      <td>1178.0</td>\n",
       "      <td>5900.0</td>\n",
       "      <td>1930.0</td>\n",
       "      <td>61200.0</td>\n",
       "    </tr>\n",
       "    <tr>\n",
       "      <th>2524</th>\n",
       "      <td>97124</td>\n",
       "      <td>4.0</td>\n",
       "      <td>1.0</td>\n",
       "      <td>1178.0</td>\n",
       "      <td>5900.0</td>\n",
       "      <td>1930.0</td>\n",
       "      <td>61200.0</td>\n",
       "    </tr>\n",
       "    <tr>\n",
       "      <th>1941</th>\n",
       "      <td>97223</td>\n",
       "      <td>2.0</td>\n",
       "      <td>1.0</td>\n",
       "      <td>1000.0</td>\n",
       "      <td>6534.0</td>\n",
       "      <td>1950.0</td>\n",
       "      <td>86000.0</td>\n",
       "    </tr>\n",
       "    <tr>\n",
       "      <th>2179</th>\n",
       "      <td>97007</td>\n",
       "      <td>3.0</td>\n",
       "      <td>2.0</td>\n",
       "      <td>972.0</td>\n",
       "      <td>7841.0</td>\n",
       "      <td>1969.0</td>\n",
       "      <td>86000.0</td>\n",
       "    </tr>\n",
       "    <tr>\n",
       "      <th>437</th>\n",
       "      <td>97206</td>\n",
       "      <td>3.0</td>\n",
       "      <td>2.0</td>\n",
       "      <td>1205.0</td>\n",
       "      <td>3709.0</td>\n",
       "      <td>1995.0</td>\n",
       "      <td>95400.0</td>\n",
       "    </tr>\n",
       "    <tr>\n",
       "      <th>...</th>\n",
       "      <td>...</td>\n",
       "      <td>...</td>\n",
       "      <td>...</td>\n",
       "      <td>...</td>\n",
       "      <td>...</td>\n",
       "      <td>...</td>\n",
       "      <td>...</td>\n",
       "    </tr>\n",
       "    <tr>\n",
       "      <th>415</th>\n",
       "      <td>97219</td>\n",
       "      <td>5.0</td>\n",
       "      <td>4.0</td>\n",
       "      <td>5763.0</td>\n",
       "      <td>53143.0</td>\n",
       "      <td>1940.0</td>\n",
       "      <td>2500000.0</td>\n",
       "    </tr>\n",
       "    <tr>\n",
       "      <th>87</th>\n",
       "      <td>97225</td>\n",
       "      <td>4.0</td>\n",
       "      <td>3.5</td>\n",
       "      <td>4776.0</td>\n",
       "      <td>25700.0</td>\n",
       "      <td>1969.0</td>\n",
       "      <td>2730000.0</td>\n",
       "    </tr>\n",
       "    <tr>\n",
       "      <th>595</th>\n",
       "      <td>97221</td>\n",
       "      <td>4.0</td>\n",
       "      <td>4.5</td>\n",
       "      <td>6117.0</td>\n",
       "      <td>190357.0</td>\n",
       "      <td>1995.0</td>\n",
       "      <td>2760000.0</td>\n",
       "    </tr>\n",
       "    <tr>\n",
       "      <th>1726</th>\n",
       "      <td>97221</td>\n",
       "      <td>8.0</td>\n",
       "      <td>5.0</td>\n",
       "      <td>7962.0</td>\n",
       "      <td>142441.0</td>\n",
       "      <td>1969.0</td>\n",
       "      <td>3650000.0</td>\n",
       "    </tr>\n",
       "    <tr>\n",
       "      <th>585</th>\n",
       "      <td>97210</td>\n",
       "      <td>2.0</td>\n",
       "      <td>3.5</td>\n",
       "      <td>4711.0</td>\n",
       "      <td>3484.0</td>\n",
       "      <td>2017.0</td>\n",
       "      <td>4550000.0</td>\n",
       "    </tr>\n",
       "  </tbody>\n",
       "</table>\n",
       "<p>3089 rows × 7 columns</p>\n",
       "</div>"
      ],
      "text/plain": [
       "      ZIPCODE  BEDS  BATHS    SQFT  LOT_SIZE  YEAR_BUILT      PRICE\n",
       "3189    97124   4.0    1.0  1178.0    5900.0      1930.0    61200.0\n",
       "2524    97124   4.0    1.0  1178.0    5900.0      1930.0    61200.0\n",
       "1941    97223   2.0    1.0  1000.0    6534.0      1950.0    86000.0\n",
       "2179    97007   3.0    2.0   972.0    7841.0      1969.0    86000.0\n",
       "437     97206   3.0    2.0  1205.0    3709.0      1995.0    95400.0\n",
       "...       ...   ...    ...     ...       ...         ...        ...\n",
       "415     97219   5.0    4.0  5763.0   53143.0      1940.0  2500000.0\n",
       "87      97225   4.0    3.5  4776.0   25700.0      1969.0  2730000.0\n",
       "595     97221   4.0    4.5  6117.0  190357.0      1995.0  2760000.0\n",
       "1726    97221   8.0    5.0  7962.0  142441.0      1969.0  3650000.0\n",
       "585     97210   2.0    3.5  4711.0    3484.0      2017.0  4550000.0\n",
       "\n",
       "[3089 rows x 7 columns]"
      ]
     },
     "execution_count": 216,
     "metadata": {},
     "output_type": "execute_result"
    }
   ],
   "source": [
    "# sorts data by price to view outliers\n",
    "df3.sort_values(by = 'PRICE')"
   ]
  },
  {
   "cell_type": "code",
   "execution_count": 218,
   "metadata": {},
   "outputs": [],
   "source": [
    "df3 = df3.drop(labels=[585, 1726, 595, 87, 415, 89, 429, 1043], axis=0)"
   ]
  },
  {
   "cell_type": "code",
   "execution_count": 219,
   "metadata": {},
   "outputs": [
    {
     "data": {
      "image/png": "[encoded data removed]",
      "text/plain": [
       "<Figure size 432x288 with 1 Axes>"
      ]
     },
     "metadata": {
      "needs_background": "light"
     },
     "output_type": "display_data"
    }
   ],
   "source": [
    "# plots price vs BATHS\n",
    "plt.scatter(df3.BATHS,df3.PRICE)\n",
    "plt.xlabel(\"BATHS\")\n",
    "plt.ylabel(\"PRICE\")\n",
    "plt.title(\"BATHS vs PRICE\")\n",
    "plt.show()"
   ]
  },
  {
   "cell_type": "code",
   "execution_count": 220,
   "metadata": {},
   "outputs": [
    {
     "data": {
      "image/png": "[encoded data removed]",
      "text/plain": [
       "<Figure size 432x288 with 1 Axes>"
      ]
     },
     "metadata": {
      "needs_background": "light"
     },
     "output_type": "display_data"
    }
   ],
   "source": [
    "#plot shows zipcode vs price\n",
    "plt.scatter(df3.ZIPCODE,df3.PRICE)\n",
    "plt.xlabel(\"Zip_Code\")\n",
    "plt.ylabel('Price')\n",
    "plt.title(\"Zip_Code vs Price\")\n",
    "plt.xlim(97000, 97350)\n",
    "plt.show()"
   ]
  },
  {
   "cell_type": "code",
   "execution_count": 221,
   "metadata": {},
   "outputs": [
    {
     "data": {
      "image/png": "[encoded data removed]",
      "text/plain": [
       "<Figure size 432x288 with 1 Axes>"
      ]
     },
     "metadata": {
      "needs_background": "light"
     },
     "output_type": "display_data"
    }
   ],
   "source": [
    "# plots lot size vs price\n",
    "plt.scatter(df3.LOT_SIZE,df3.PRICE)\n",
    "plt.xlabel(\"Lot Size\")\n",
    "plt.ylabel('Price')\n",
    "plt.title(\"lot size vs Price\")\n",
    "plt.show()"
   ]
  },
  {
   "cell_type": "code",
   "execution_count": 222,
   "metadata": {},
   "outputs": [
    {
     "data": {
      "image/png": "[encoded data removed]",
      "text/plain": [
       "<Figure size 432x288 with 1 Axes>"
      ]
     },
     "metadata": {
      "needs_background": "light"
     },
     "output_type": "display_data"
    }
   ],
   "source": [
    "# plots year built vs price\n",
    "plt.scatter(df3.YEAR_BUILT,df3.PRICE)\n",
    "plt.xlabel(\"Year_Built\")\n",
    "plt.ylabel('Price')\n",
    "plt.title(\"Year_Built vs Price\")\n",
    "plt.show()"
   ]
  },
  {
   "cell_type": "markdown",
   "metadata": {},
   "source": [
    "The following graphs show the relationships between all the variables. This gives us a quick over view of all the different combinations of scatter plot graphs we could make with the data. For linear regression we are looking for linear relationships. "
   ]
  },
  {
   "cell_type": "code",
   "execution_count": 190,
   "metadata": {},
   "outputs": [
    {
     "data": {
      "image/png": "[encoded data removed]",
      "text/plain": [
       "<Figure size 432x288 with 49 Axes>"
      ]
     },
     "metadata": {
      "needs_background": "light"
     },
     "output_type": "display_data"
    }
   ],
   "source": [
    "# creates scatter matrix that shows correlations between data\n",
    "scatter_matrix(df3)\n",
    "plt.show()"
   ]
  },
  {
   "cell_type": "markdown",
   "metadata": {},
   "source": [
    "The following graph is a correlation matrix that shows how closely related each feature is. The values closer to 1 indicate that the feautures have a high relation to each other (one effects the other).\n",
    "From this we can see that sqft has the highest correlation to price at 0.75. "
   ]
  },
  {
   "cell_type": "code",
   "execution_count": 191,
   "metadata": {},
   "outputs": [
    {
     "data": {
      "image/png": "[encoded data removed]",
      "text/plain": [
       "<Figure size 432x288 with 2 Axes>"
      ]
     },
     "metadata": {
      "needs_background": "light"
     },
     "output_type": "display_data"
    }
   ],
   "source": [
    "# correlation matrix, numbers closer to 1 indicate more of a correlation\n",
    "corrMatrix = df3.corr()\n",
    "sns.heatmap(corrMatrix, annot=True)\n",
    "plt.show()"
   ]
  },
  {
   "cell_type": "markdown",
   "metadata": {},
   "source": [
    "Next we'll being the process of creating the machine learning model. This involves spliting the data in test and train groups. The train data trains the model and the test data tests the model to see if it has learned. \n",
    "\n",
    "First we will split our data into two groups. One will have the dependent variable or what we're trying to predict (prices). The other will have the other varibles which we'll call features. "
   ]
  },
  {
   "cell_type": "code",
   "execution_count": 223,
   "metadata": {},
   "outputs": [
    {
     "name": "stdout",
     "output_type": "stream",
     "text": [
      "      ZIPCODE  BEDS  BATHS    SQFT  LOT_SIZE  YEAR_BUILT\n",
      "0       97008   3.0    2.5  2067.0    3484.0      2015.0\n",
      "1       97008   3.0    2.0  1040.0    8712.0      1979.0\n",
      "2       97223   4.0    2.5  1997.0    4791.0      1992.0\n",
      "3       97225   4.0    3.0  3406.0   11325.0      1964.0\n",
      "4       97225   3.0    2.5  3652.0   21780.0      1959.0\n",
      "...       ...   ...    ...     ...       ...         ...\n",
      "3376    97123   5.0    3.0  3980.0   19602.0      1993.0\n",
      "3377    97123   4.0    2.5  1930.0    9147.0      1978.0\n",
      "3378    97124   4.0    3.0  1750.0    5663.0      2000.0\n",
      "3379    97124   4.0    2.5  2156.0    2613.0      2006.0\n",
      "3380    97124   3.0    3.0  2691.0   32670.0      1973.0\n",
      "\n",
      "[3081 rows x 6 columns]\n"
     ]
    }
   ],
   "source": [
    "# store dependent variable seperatly\n",
    "prices = df3['PRICE']\n",
    "# remaining variables placed in features\n",
    "features = df3.drop('PRICE', axis=1)\n",
    "print(features)"
   ]
  },
  {
   "cell_type": "code",
   "execution_count": 224,
   "metadata": {},
   "outputs": [],
   "source": [
    "# creates instance of Linear regression class\n",
    "reg = LinearRegression()\n",
    "\n",
    "# shuffle and split data\n",
    "X_train, X_test, y_train, y_test = train_test_split(\n",
    "    features, prices, test_size=0.1, random_state=32)"
   ]
  },
  {
   "cell_type": "markdown",
   "metadata": {},
   "source": [
    "Now we'll fit the data to our regression model. "
   ]
  },
  {
   "cell_type": "code",
   "execution_count": 225,
   "metadata": {},
   "outputs": [
    {
     "data": {
      "text/plain": [
       "LinearRegression()"
      ]
     },
     "execution_count": 225,
     "metadata": {},
     "output_type": "execute_result"
    }
   ],
   "source": [
    "reg.fit(X_train.values, y_train)"
   ]
  },
  {
   "cell_type": "markdown",
   "metadata": {},
   "source": [
    "R^2 is a good metric to evaluate linear regression models. If gives a quantified answer to home accurate the predictions are to the actual data. We'll use scikit-learn's built in r2_score."
   ]
  },
  {
   "cell_type": "code",
   "execution_count": 226,
   "metadata": {},
   "outputs": [
    {
     "name": "stdout",
     "output_type": "stream",
     "text": [
      " reg score: 0.7484881377780337\n"
     ]
    }
   ],
   "source": [
    "# checks score of regression fit\n",
    "reg_score = reg.score(X_test.values, y_test)\n",
    "print(f' reg score: {reg_score}')"
   ]
  },
  {
   "cell_type": "markdown",
   "metadata": {},
   "source": [
    "The model isn't very accurate at 74.8%. We'll introduce gradient boosting to try and get a more accurate model. Gradient boosting takes a combination of more simple models to create an ensemble. The goal is to reduce the prediction error with each successive model.\n",
    "\n",
    "I played around with the parameters to get a best fit. "
   ]
  },
  {
   "cell_type": "code",
   "execution_count": 227,
   "metadata": {},
   "outputs": [
    {
     "data": {
      "text/plain": [
       "GradientBoostingRegressor(loss='huber', max_depth=4, min_samples_split=5,\n",
       "                          n_estimators=500)"
      ]
     },
     "execution_count": 227,
     "metadata": {},
     "output_type": "execute_result"
    }
   ],
   "source": [
    "# gradient boosting\n",
    "clf = ensemble.GradientBoostingRegressor(\n",
    "    n_estimators=500, max_depth=4, min_samples_split=5, learning_rate=0.1, loss='huber')\n",
    "clf.fit(X_train.values, y_train.values)"
   ]
  },
  {
   "cell_type": "code",
   "execution_count": 228,
   "metadata": {},
   "outputs": [
    {
     "name": "stdout",
     "output_type": "stream",
     "text": [
      "clf score: 0.8223502657083884\n"
     ]
    }
   ],
   "source": [
    "# checks clf score\n",
    "clf_score = clf.score(X_test.values, y_test)\n",
    "print(f'clf score: {clf_score}')"
   ]
  },
  {
   "cell_type": "markdown",
   "metadata": {},
   "source": [
    "The gradient boosted score is much more accurate than the original linear regression model. \n",
    "\n",
    "Now we can use our model to actually make predictions by inputting paramters and the model will output a price estimate. "
   ]
  },
  {
   "cell_type": "code",
   "execution_count": 237,
   "metadata": {},
   "outputs": [
    {
     "name": "stdout",
     "output_type": "stream",
     "text": [
      "Linear regression model: Zipcode: 97008, BEDS: 3, BATHS: 2.5, SQFT: 1778, LOT_SIZE: 2600, YEAR_BUILT: 2010 Predicted home price is: $[497467.08624388]\n",
      " Boosted prediction: $[472705.95540584]\n"
     ]
    }
   ],
   "source": [
    "# ZIPCODE, BEDS, BATHS, SQFT, LOT_SIZE, YEAR_BUILT\n",
    "Xnew = [[97008, 3, 2.5, 1778, 2600, 2010]]\n",
    "\n",
    "#makes a prediction\n",
    "reg_predict = reg.predict(Xnew)\n",
    "\n",
    "# show the inputs and predicted outputs\n",
    "print(f'Linear regression model: Zipcode: {Xnew[0][0]}, BEDS: {Xnew[0][1]}, BATHS: {Xnew[0][2]}, SQFT: {Xnew[0][3]}, LOT_SIZE: {Xnew[0][4]}, YEAR_BUILT: {Xnew[0][5]} Predicted home price is: ${reg_predict}')\n",
    "\n",
    "# makes clf prediction\n",
    "clf_predict = clf.predict(Xnew)\n",
    "print(f' Boosted prediction: ${clf_predict}')"
   ]
  },
  {
   "cell_type": "markdown",
   "metadata": {},
   "source": [
    "Using redfin as a comparison I searched for homes sold in the last 6 months and inputted the parameters into my model. Here's some that I found. \n",
    "\n",
    "ZIPCODE: 97007 \n",
    "BEDS: 3 \n",
    "BATHS: 2.5 \n",
    "SQFT: 1900\n",
    "LOT_SIZE: 2600\n",
    "YEAR_BUILT: 1997 \n",
    "Sold PRICE: $507,000\n",
    "Predicted Price w/ linear Reg: $519040.88\n",
    "boosted prediction:  $484,116.58\n",
    "\n",
    "Zipcode: 97007\n",
    "BEDS: 3\n",
    "BATHS: 2\n",
    "SQFT: 1910\n",
    "LOT_SIZE: 3049\n",
    "YEAR_BUILT: 2018 \n",
    "Sold PRICE: $560,000\n",
    "Predicted Price w/ linear Reg: $507546.54\n",
    "Boosted prediction: $550225.95\n",
    "\n",
    "Zipcode: 97008\n",
    "BEDS: 3\n",
    "BATHS: 2.5\n",
    "SQFT: 1778\n",
    "LOT_SIZE: 2600\n",
    "YEAR_BUILT: 2010\n",
    "SOLD Price: $507,000\n",
    "Predicted Price w/ linear Reg: $497467.08\n",
    "Boosted prediction: $472705.95\n"
   ]
  },
  {
   "cell_type": "markdown",
   "metadata": {},
   "source": [
    "In general both models seem to underestimate the price of homes. Sometimes the boosted model is more accurate, other times the lienar regression model is more accurate. Overall the model gives a rough estimate and the project was a fun and educational experience with data science. \n",
    "\n",
    "Here are some ways it could be improved:\n",
    "\n",
    "1. The model doesn't take into account many other parameters such as when homes were sold to account for inflation over time, this was removed for the sake of simplicity and all home sales were from the previous two years. \n",
    "\n",
    "2. The model doesn't take into account exact locations, zipcodes cover a wide area and home prices can drastically vary in a small area. Good neighborhoods and bad neighborhoods can both be within the same zipcode. \n",
    "\n",
    "3. The sample size of 3300 entries is small. More data would improve the accuracy of the model. \n",
    "\n",
    "4. Using more advanced modeling like deep learning or other machine learning models to improve accuracy. \n",
    "\n",
    "When creating a machine learning model you also need to think about the data source and bias's in the data. Your entire model is based on the data so you need to make sure the data is reliable and reasonable. Being knowlegable in the field that your data comes from can help make sense of the data and verify that the outcomes are reasonable. \n",
    "\n",
    "Home prices are notoriously subjective. The sale price is what someone will pay for the home, not necessarily what its worth. There is a lot of emotion in home buying and this can't always be quantified into a model. For example someone touring a home could love the kithcen and be willing to outbid any offers to get the home. If a company with the resources like Zillow can't accurately predict home prices with AI it shows the difficulty in modeling the data. "
   ]
  }
 ],
 "metadata": {
  "interpreter": {
   "hash": "c2621190d27a6c26537a937721e8087f5e3f475e83dc2685d7ae9b984e03e1c3"
  },
  "kernelspec": {
   "display_name": "Python 3.9.4 64-bit ('3.9.4': pyenv)",
   "language": "python",
   "name": "python3"
  },
  "language_info": {
   "codemirror_mode": {
    "name": "ipython",
    "version": 3
   },
   "file_extension": ".py",
   "mimetype": "text/x-python",
   "name": "python",
   "nbconvert_exporter": "python",
   "pygments_lexer": "ipython3",
   "version": "3.9.4"
  },
  "orig_nbformat": 4
 },
 "nbformat": 4,
 "nbformat_minor": 2
}
